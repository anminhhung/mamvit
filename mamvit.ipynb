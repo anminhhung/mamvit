{
 "cells": [
  {
   "cell_type": "markdown",
   "id": "531467a2-5160-4073-a990-0d81d574b014",
   "metadata": {},
   "source": [
    "## (1) Load model"
   ]
  },
  {
   "cell_type": "code",
   "execution_count": 10,
   "id": "be3afb51-5093-4c64-ac3f-43c2e6b20b10",
   "metadata": {},
   "outputs": [
    {
     "name": "stdout",
     "output_type": "stream",
     "text": [
      "Files already downloaded and verified\n",
      "Files already downloaded and verified\n",
      "Trainable params: 11071488\n",
      "Namespace(name='CIFAR100', dataset='CIFAR100', model='mamvit', lr=0.1, batch_size=128, epochs=200, save_path='save_path/baseline', momentum=0.9, decay=0.0001, gammas=[0.1, 0.1], schedule=[100, 150], img_size=32, patch_size=4, dropout_rate=0, d_model=512, d_inner=512, d_conv=4, dt_rank=96, d_state=16, n_layer=12, bias=False, conv_bias=True, num_classes=100)\n",
      "\u001b[34m\u001b[1mEpoch 0/199:\u001b[0m\n",
      "\u001b[93m\u001b[1m\n",
      "           Training:        gpu_mem           loss            acc\u001b[0m\n",
      "                             14.5GB        4.93091     0.00669643       2%|▏    ^C\n"
     ]
    }
   ],
   "source": [
    "!CUDA_VISIBLE_DEVICES=0 python train.py --name=\"CIFAR100\"  --dataset='CIFAR100'  \\\n",
    "    --model='mamvit'  --lr=0.1  --momentum=0.9 --decay=0.0001 \\\n",
    "    --gammas 0.1 0.1 --schedule 100 150  --batch_size=128  \\\n",
    "    --epochs=200 --save_path='save_path/baseline'"
   ]
  },
  {
   "cell_type": "code",
   "execution_count": null,
   "id": "6531acc0-b18f-472a-8e99-cee64dd51cd8",
   "metadata": {},
   "outputs": [],
   "source": []
  },
  {
   "cell_type": "code",
   "execution_count": null,
   "id": "d0efe197-891a-4ab8-8cea-413d1fb1acda",
   "metadata": {},
   "outputs": [],
   "source": []
  },
  {
   "cell_type": "code",
   "execution_count": null,
   "id": "2e99509b-df7b-4bac-b6a2-669f601ec1c8",
   "metadata": {},
   "outputs": [],
   "source": []
  }
 ],
 "metadata": {
  "kernelspec": {
   "display_name": "Python 3 (ipykernel)",
   "language": "python",
   "name": "python3"
  },
  "language_info": {
   "codemirror_mode": {
    "name": "ipython",
    "version": 3
   },
   "file_extension": ".py",
   "mimetype": "text/x-python",
   "name": "python",
   "nbconvert_exporter": "python",
   "pygments_lexer": "ipython3",
   "version": "3.11.4"
  }
 },
 "nbformat": 4,
 "nbformat_minor": 5
}
